{
 "cells": [
  {
   "cell_type": "code",
   "execution_count": 12,
   "metadata": {
    "collapsed": true
   },
   "outputs": [],
   "source": [
    "import pandas as pd\n",
    "import requests\n",
    "from bs4 import BeautifulSoup\n",
    "import string\n",
    "import matplotlib.pyplot as plt\n",
    "import seaborn as sns\n",
    "import re\n",
    "\n",
    "%matplotlib inline"
   ]
  },
  {
   "cell_type": "code",
   "execution_count": 2,
   "metadata": {
    "collapsed": true
   },
   "outputs": [],
   "source": [
    "def remove_punctuation(x):\n",
    "    x = str(x)\n",
    "    return x.translate(str.maketrans({a:None for a in string.punctuation}))"
   ]
  },
  {
   "cell_type": "code",
   "execution_count": 34,
   "metadata": {
    "collapsed": false
   },
   "outputs": [
    {
     "data": {
      "text/plain": [
       "'The Jungle Book'"
      ]
     },
     "execution_count": 34,
     "metadata": {},
     "output_type": "execute_result"
    }
   ],
   "source": [
    "def remove_year_from_title(title):\n",
    "    return re.sub('\\([0-9]{2,}\\)','',title).strip()\n",
    "\n",
    "remove_year_from_title('The Jungle Book (2016)')"
   ]
  },
  {
   "cell_type": "code",
   "execution_count": 44,
   "metadata": {
    "collapsed": true
   },
   "outputs": [],
   "source": [
    "def scrape_opening_weekend(year=2015):\n",
    "    url = 'http://www.boxofficemojo.com/yearly/chart/?yr='+str(year)+'&p=.htm'\n",
    "    response = requests.get(url)\n",
    "    while(not response.ok):\n",
    "        response = requests.get(url)\n",
    "\n",
    "    page = response.text\n",
    "    soup = BeautifulSoup(page,'lxml')\n",
    "    \n",
    "    # Find number of pages on table for the year\n",
    "    item = soup.find('center')\n",
    "    #pages = len(item.find_all('a'))+1\n",
    "    \n",
    "    # Pull table from each page\n",
    "    for i in range(1,3):\n",
    "        url = 'http://www.boxofficemojo.com/yearly/chart/?page='+str(i)+'&view=releasedate&view2=domestic&yr='+str(year)+'&sort=opengross&p=.htm'\n",
    "        tables = pd.read_html(url)\n",
    "        table = tables[2]\n",
    "        table = table.iloc[6:-6,2:9]\n",
    "        table.columns = ['title','studio','total_gross','total_theatres','opening','opening_theatres','release_date']\n",
    "        if i==1:\n",
    "            df = table\n",
    "        else:\n",
    "            df = pd.concat([df,table])\n",
    "    \n",
    "    # Clean up dataframe types\n",
    "    df.title = df.title.map(remove_year_from_title)\n",
    "    df.release_date = pd.to_datetime(df.release_date+str(year),format='%m/%d%Y')\n",
    "    df = df.dropna(subset=['opening','opening_theatres'])\n",
    "    df.total_gross = df.total_gross.map(remove_punctuation)\n",
    "    df.total_theatres = df.total_theatres.map(lambda x: int(x))\n",
    "    df.opening = df.opening.map(remove_punctuation)\n",
    "    df.opening_theatres = df.opening_theatres.map(lambda x: int(x))\n",
    "    \n",
    "    return df"
   ]
  },
  {
   "cell_type": "code",
   "execution_count": 40,
   "metadata": {
    "collapsed": true
   },
   "outputs": [],
   "source": [
    "def clean_mojo_data(df):\n",
    "    # Clean up dataframe types\n",
    "    df.title = df.title.map(remove_year_from_title)\n",
    "    #df.release_date = pd.to_datetime(df.release_date+str(year),format='%m/%d%Y')\n",
    "    df = df.dropna(subset=['opening','opening_theatres'])\n",
    "    df.total_gross = df.total_gross.map(remove_punctuation)\n",
    "    df.total_theatres = df.total_theatres.map(lambda x: int(x))\n",
    "    df.opening = df.opening.map(remove_punctuation)\n",
    "    df.opening_theatres = df.opening_theatres.map(lambda x: int(x))\n",
    "    return df                                     "
   ]
  },
  {
   "cell_type": "code",
   "execution_count": 45,
   "metadata": {
    "collapsed": false
   },
   "outputs": [
    {
     "data": {
      "text/html": [
       "<div>\n",
       "<table border=\"1\" class=\"dataframe\">\n",
       "  <thead>\n",
       "    <tr style=\"text-align: right;\">\n",
       "      <th></th>\n",
       "      <th>title</th>\n",
       "      <th>studio</th>\n",
       "      <th>total_gross</th>\n",
       "      <th>total_theatres</th>\n",
       "      <th>opening</th>\n",
       "      <th>opening_theatres</th>\n",
       "      <th>release_date</th>\n",
       "    </tr>\n",
       "  </thead>\n",
       "  <tbody>\n",
       "    <tr>\n",
       "      <th>6</th>\n",
       "      <td>Batman v Superman: Dawn of Justice</td>\n",
       "      <td>WB</td>\n",
       "      <td>320495804</td>\n",
       "      <td>4256</td>\n",
       "      <td>166007347</td>\n",
       "      <td>4242</td>\n",
       "      <td>2016-03-25</td>\n",
       "    </tr>\n",
       "    <tr>\n",
       "      <th>7</th>\n",
       "      <td>Deadpool</td>\n",
       "      <td>Fox</td>\n",
       "      <td>361274848</td>\n",
       "      <td>3856</td>\n",
       "      <td>132434639</td>\n",
       "      <td>3558</td>\n",
       "      <td>2016-02-12</td>\n",
       "    </tr>\n",
       "    <tr>\n",
       "      <th>8</th>\n",
       "      <td>The Jungle Book</td>\n",
       "      <td>BV</td>\n",
       "      <td>202218804</td>\n",
       "      <td>4028</td>\n",
       "      <td>103261464</td>\n",
       "      <td>4028</td>\n",
       "      <td>2016-04-15</td>\n",
       "    </tr>\n",
       "    <tr>\n",
       "      <th>9</th>\n",
       "      <td>Zootopia</td>\n",
       "      <td>BV</td>\n",
       "      <td>317554942</td>\n",
       "      <td>3959</td>\n",
       "      <td>75063401</td>\n",
       "      <td>3827</td>\n",
       "      <td>2016-03-04</td>\n",
       "    </tr>\n",
       "    <tr>\n",
       "      <th>10</th>\n",
       "      <td>Kung Fu Panda 3</td>\n",
       "      <td>Fox</td>\n",
       "      <td>141692280</td>\n",
       "      <td>3987</td>\n",
       "      <td>41282042</td>\n",
       "      <td>3955</td>\n",
       "      <td>2016-01-29</td>\n",
       "    </tr>\n",
       "  </tbody>\n",
       "</table>\n",
       "</div>"
      ],
      "text/plain": [
       "                                 title studio total_gross  total_theatres  \\\n",
       "6   Batman v Superman: Dawn of Justice     WB   320495804            4256   \n",
       "7                             Deadpool    Fox   361274848            3856   \n",
       "8                      The Jungle Book     BV   202218804            4028   \n",
       "9                             Zootopia     BV   317554942            3959   \n",
       "10                     Kung Fu Panda 3    Fox   141692280            3987   \n",
       "\n",
       "      opening  opening_theatres release_date  \n",
       "6   166007347              4242   2016-03-25  \n",
       "7   132434639              3558   2016-02-12  \n",
       "8   103261464              4028   2016-04-15  \n",
       "9    75063401              3827   2016-03-04  \n",
       "10   41282042              3955   2016-01-29  "
      ]
     },
     "execution_count": 45,
     "metadata": {},
     "output_type": "execute_result"
    }
   ],
   "source": [
    "data = scrape_opening_weekend(2016)\n",
    "data.head()"
   ]
  },
  {
   "cell_type": "code",
   "execution_count": 46,
   "metadata": {
    "collapsed": false
   },
   "outputs": [],
   "source": [
    "for year in range(2010,2017):\n",
    "    data = pd.concat([data,scrape_opening_weekend(year)])"
   ]
  },
  {
   "cell_type": "code",
   "execution_count": 51,
   "metadata": {
    "collapsed": false
   },
   "outputs": [],
   "source": [
    "pd.to_pickle(data,'2010-2015_mojo.pkl')"
   ]
  },
  {
   "cell_type": "code",
   "execution_count": null,
   "metadata": {
    "collapsed": true
   },
   "outputs": [],
   "source": []
  }
 ],
 "metadata": {
  "kernelspec": {
   "display_name": "Python 3",
   "language": "python",
   "name": "python3"
  },
  "language_info": {
   "codemirror_mode": {
    "name": "ipython",
    "version": 3
   },
   "file_extension": ".py",
   "mimetype": "text/x-python",
   "name": "python",
   "nbconvert_exporter": "python",
   "pygments_lexer": "ipython3",
   "version": "3.5.1"
  }
 },
 "nbformat": 4,
 "nbformat_minor": 0
}
