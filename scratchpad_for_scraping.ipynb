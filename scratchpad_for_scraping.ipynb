{
 "cells": [
  {
   "cell_type": "code",
   "execution_count": 5,
   "metadata": {
    "collapsed": true
   },
   "outputs": [],
   "source": [
    "import pandas as pd\n",
    "import requests\n",
    "from bs4 import BeautifulSoup\n",
    "import string\n",
    "import matplotlib.pyplot as plt\n",
    "import seaborn as sns\n",
    "\n",
    "%matplotlib inline"
   ]
  },
  {
   "cell_type": "code",
   "execution_count": 42,
   "metadata": {
    "collapsed": false
   },
   "outputs": [
    {
     "data": {
      "text/html": [
       "<div>\n",
       "<table border=\"1\" class=\"dataframe\">\n",
       "  <thead>\n",
       "    <tr style=\"text-align: right;\">\n",
       "      <th></th>\n",
       "      <th>Title</th>\n",
       "      <th>Date</th>\n",
       "      <th>Year</th>\n",
       "    </tr>\n",
       "  </thead>\n",
       "  <tbody>\n",
       "    <tr>\n",
       "      <th>0</th>\n",
       "      <td>Compadres</td>\n",
       "      <td>April 22</td>\n",
       "      <td>2016</td>\n",
       "    </tr>\n",
       "    <tr>\n",
       "      <th>1</th>\n",
       "      <td>Un tango más</td>\n",
       "      <td>April 15</td>\n",
       "      <td>2015</td>\n",
       "    </tr>\n",
       "    <tr>\n",
       "      <th>2</th>\n",
       "      <td>Sing Street</td>\n",
       "      <td>April 15</td>\n",
       "      <td>2016</td>\n",
       "    </tr>\n",
       "    <tr>\n",
       "      <th>3</th>\n",
       "      <td>Hardcore Henry</td>\n",
       "      <td>April 8</td>\n",
       "      <td>2015</td>\n",
       "    </tr>\n",
       "    <tr>\n",
       "      <th>4</th>\n",
       "      <td>Elvis &amp; Nixon</td>\n",
       "      <td>April 22</td>\n",
       "      <td>2016</td>\n",
       "    </tr>\n",
       "    <tr>\n",
       "      <th>5</th>\n",
       "      <td>Green Room</td>\n",
       "      <td>April 15</td>\n",
       "      <td>2015</td>\n",
       "    </tr>\n",
       "    <tr>\n",
       "      <th>6</th>\n",
       "      <td>Mother's Day</td>\n",
       "      <td>April 29</td>\n",
       "      <td>2016</td>\n",
       "    </tr>\n",
       "    <tr>\n",
       "      <th>7</th>\n",
       "      <td>The Dying of the Light</td>\n",
       "      <td>April 8</td>\n",
       "      <td>2015</td>\n",
       "    </tr>\n",
       "    <tr>\n",
       "      <th>8</th>\n",
       "      <td>The Boss</td>\n",
       "      <td>April 8</td>\n",
       "      <td>2016</td>\n",
       "    </tr>\n",
       "    <tr>\n",
       "      <th>9</th>\n",
       "      <td>Louder Than Bombs</td>\n",
       "      <td>April 8</td>\n",
       "      <td>2015</td>\n",
       "    </tr>\n",
       "    <tr>\n",
       "      <th>10</th>\n",
       "      <td>Viva</td>\n",
       "      <td>April 29</td>\n",
       "      <td>2015</td>\n",
       "    </tr>\n",
       "    <tr>\n",
       "      <th>11</th>\n",
       "      <td>Barbershop: The Next Cut</td>\n",
       "      <td>April 15</td>\n",
       "      <td>2016</td>\n",
       "    </tr>\n",
       "    <tr>\n",
       "      <th>12</th>\n",
       "      <td>A Space Program</td>\n",
       "      <td>April 8</td>\n",
       "      <td>2015</td>\n",
       "    </tr>\n",
       "    <tr>\n",
       "      <th>13</th>\n",
       "      <td>Ratchet &amp; Clank</td>\n",
       "      <td>April 29</td>\n",
       "      <td>2016</td>\n",
       "    </tr>\n",
       "    <tr>\n",
       "      <th>14</th>\n",
       "      <td>Papa Hemingway in Cuba</td>\n",
       "      <td>April 29</td>\n",
       "      <td>2015</td>\n",
       "    </tr>\n",
       "    <tr>\n",
       "      <th>15</th>\n",
       "      <td>A Beautiful Planet</td>\n",
       "      <td>April 29</td>\n",
       "      <td>2016</td>\n",
       "    </tr>\n",
       "    <tr>\n",
       "      <th>16</th>\n",
       "      <td>The Dark Horse</td>\n",
       "      <td>April 1</td>\n",
       "      <td>2014</td>\n",
       "    </tr>\n",
       "    <tr>\n",
       "      <th>17</th>\n",
       "      <td>Purple Rain</td>\n",
       "      <td>April 22</td>\n",
       "      <td>1984</td>\n",
       "    </tr>\n",
       "    <tr>\n",
       "      <th>18</th>\n",
       "      <td>The Jungle Book</td>\n",
       "      <td>April 15</td>\n",
       "      <td>2016</td>\n",
       "    </tr>\n",
       "    <tr>\n",
       "      <th>19</th>\n",
       "      <td>Fan</td>\n",
       "      <td>April 15</td>\n",
       "      <td>2016</td>\n",
       "    </tr>\n",
       "    <tr>\n",
       "      <th>20</th>\n",
       "      <td>A Hologram for the King</td>\n",
       "      <td>April 22</td>\n",
       "      <td>2016</td>\n",
       "    </tr>\n",
       "    <tr>\n",
       "      <th>21</th>\n",
       "      <td>Colonia</td>\n",
       "      <td>April 15</td>\n",
       "      <td>2015</td>\n",
       "    </tr>\n",
       "    <tr>\n",
       "      <th>22</th>\n",
       "      <td>Vergine giurata</td>\n",
       "      <td>April 15</td>\n",
       "      <td>2015</td>\n",
       "    </tr>\n",
       "    <tr>\n",
       "      <th>23</th>\n",
       "      <td>Everybody Wants Some!!</td>\n",
       "      <td>April 1</td>\n",
       "      <td>2016</td>\n",
       "    </tr>\n",
       "    <tr>\n",
       "      <th>24</th>\n",
       "      <td>Tale of Tales</td>\n",
       "      <td>April 22</td>\n",
       "      <td>2015</td>\n",
       "    </tr>\n",
       "    <tr>\n",
       "      <th>25</th>\n",
       "      <td>Natural Born Pranksters</td>\n",
       "      <td>April 1</td>\n",
       "      <td>2016</td>\n",
       "    </tr>\n",
       "    <tr>\n",
       "      <th>26</th>\n",
       "      <td>Meet the Blacks</td>\n",
       "      <td>April 1</td>\n",
       "      <td>2016</td>\n",
       "    </tr>\n",
       "    <tr>\n",
       "      <th>27</th>\n",
       "      <td>Hatuna MeNiyar</td>\n",
       "      <td>April 8</td>\n",
       "      <td>2015</td>\n",
       "    </tr>\n",
       "    <tr>\n",
       "      <th>28</th>\n",
       "      <td>The Meddler</td>\n",
       "      <td>April 22</td>\n",
       "      <td>2015</td>\n",
       "    </tr>\n",
       "    <tr>\n",
       "      <th>29</th>\n",
       "      <td>La tête haute</td>\n",
       "      <td>April 1</td>\n",
       "      <td>2015</td>\n",
       "    </tr>\n",
       "    <tr>\n",
       "      <th>30</th>\n",
       "      <td>Miles Ahead</td>\n",
       "      <td>April 1</td>\n",
       "      <td>2015</td>\n",
       "    </tr>\n",
       "    <tr>\n",
       "      <th>31</th>\n",
       "      <td>The Girl in the Photographs</td>\n",
       "      <td>April 1</td>\n",
       "      <td>2015</td>\n",
       "    </tr>\n",
       "    <tr>\n",
       "      <th>32</th>\n",
       "      <td>The Huntsman: Winter's War</td>\n",
       "      <td>April 22</td>\n",
       "      <td>2016</td>\n",
       "    </tr>\n",
       "    <tr>\n",
       "      <th>33</th>\n",
       "      <td>Kill Your Friends</td>\n",
       "      <td>April 1</td>\n",
       "      <td>2015</td>\n",
       "    </tr>\n",
       "    <tr>\n",
       "      <th>34</th>\n",
       "      <td>The Invitation</td>\n",
       "      <td>April 8</td>\n",
       "      <td>2015</td>\n",
       "    </tr>\n",
       "    <tr>\n",
       "      <th>35</th>\n",
       "      <td>Demolition</td>\n",
       "      <td>April 8</td>\n",
       "      <td>2015</td>\n",
       "    </tr>\n",
       "    <tr>\n",
       "      <th>36</th>\n",
       "      <td>God's Not Dead 2</td>\n",
       "      <td>April 1</td>\n",
       "      <td>2016</td>\n",
       "    </tr>\n",
       "    <tr>\n",
       "      <th>37</th>\n",
       "      <td>Nina</td>\n",
       "      <td>April 22</td>\n",
       "      <td>2016</td>\n",
       "    </tr>\n",
       "    <tr>\n",
       "      <th>38</th>\n",
       "      <td>Keanu</td>\n",
       "      <td>April 29</td>\n",
       "      <td>2016</td>\n",
       "    </tr>\n",
       "    <tr>\n",
       "      <th>39</th>\n",
       "      <td>The Man Who Knew Infinity</td>\n",
       "      <td>April 29</td>\n",
       "      <td>2015</td>\n",
       "    </tr>\n",
       "    <tr>\n",
       "      <th>40</th>\n",
       "      <td>Criminal</td>\n",
       "      <td>April 15</td>\n",
       "      <td>2016</td>\n",
       "    </tr>\n",
       "    <tr>\n",
       "      <th>41</th>\n",
       "      <td>Rio, I Love You</td>\n",
       "      <td>April 15</td>\n",
       "      <td>2014</td>\n",
       "    </tr>\n",
       "    <tr>\n",
       "      <th>42</th>\n",
       "      <td>Mr. Right</td>\n",
       "      <td>April 8</td>\n",
       "      <td>2015</td>\n",
       "    </tr>\n",
       "  </tbody>\n",
       "</table>\n",
       "</div>"
      ],
      "text/plain": [
       "                          Title      Date  Year\n",
       "0                     Compadres  April 22  2016\n",
       "1                  Un tango más  April 15  2015\n",
       "2                   Sing Street  April 15  2016\n",
       "3                Hardcore Henry   April 8  2015\n",
       "4                 Elvis & Nixon  April 22  2016\n",
       "5                    Green Room  April 15  2015\n",
       "6                  Mother's Day  April 29  2016\n",
       "7        The Dying of the Light   April 8  2015\n",
       "8                      The Boss   April 8  2016\n",
       "9             Louder Than Bombs   April 8  2015\n",
       "10                         Viva  April 29  2015\n",
       "11     Barbershop: The Next Cut  April 15  2016\n",
       "12              A Space Program   April 8  2015\n",
       "13              Ratchet & Clank  April 29  2016\n",
       "14       Papa Hemingway in Cuba  April 29  2015\n",
       "15           A Beautiful Planet  April 29  2016\n",
       "16               The Dark Horse   April 1  2014\n",
       "17                  Purple Rain  April 22  1984\n",
       "18              The Jungle Book  April 15  2016\n",
       "19                          Fan  April 15  2016\n",
       "20      A Hologram for the King  April 22  2016\n",
       "21                      Colonia  April 15  2015\n",
       "22              Vergine giurata  April 15  2015\n",
       "23       Everybody Wants Some!!   April 1  2016\n",
       "24                Tale of Tales  April 22  2015\n",
       "25      Natural Born Pranksters   April 1  2016\n",
       "26              Meet the Blacks   April 1  2016\n",
       "27               Hatuna MeNiyar   April 8  2015\n",
       "28                  The Meddler  April 22  2015\n",
       "29                La tête haute   April 1  2015\n",
       "30                  Miles Ahead   April 1  2015\n",
       "31  The Girl in the Photographs   April 1  2015\n",
       "32   The Huntsman: Winter's War  April 22  2016\n",
       "33            Kill Your Friends   April 1  2015\n",
       "34               The Invitation   April 8  2015\n",
       "35                   Demolition   April 8  2015\n",
       "36             God's Not Dead 2   April 1  2016\n",
       "37                         Nina  April 22  2016\n",
       "38                        Keanu  April 29  2016\n",
       "39    The Man Who Knew Infinity  April 29  2015\n",
       "40                     Criminal  April 15  2016\n",
       "41              Rio, I Love You  April 15  2014\n",
       "42                    Mr. Right   April 8  2015"
      ]
     },
     "execution_count": 42,
     "metadata": {},
     "output_type": "execute_result"
    }
   ],
   "source": [
    "from collections import defaultdict\n",
    "\n",
    "# Try to pull all Friday releases for movies in April 2016\n",
    "url = 'http://www.imdb.com/movies-coming-soon/2016-04'\n",
    "response = requests.get(url)\n",
    "while(not response.ok):\n",
    "    response = requests.get(url)\n",
    "\n",
    "page = response.text\n",
    "soup = BeautifulSoup(page,'lxml')\n",
    "\n",
    "# Pulling upcoming movies from IMDB\n",
    "release_dict = defaultdict(list)\n",
    "for item in soup.find_all('h4'):\n",
    "    item = item.find('a').text\n",
    "    if(item[0] != \" \"):\n",
    "        value = item.strip()\n",
    "    else:\n",
    "        name = item.split('(')[0].strip()\n",
    "        release_dict[name].append(value)\n",
    "        release_dict[name].append(item.split('(')[1].replace(')',''))\n",
    "        \n",
    "release_dict = pd.DataFrame.from_dict(release_dict,orient='index')\n",
    "release_dict = release_dict.reset_index()\n",
    "release_dict.columns = ['Title','Date','Year']\n",
    "release_dict"
   ]
  },
  {
   "cell_type": "code",
   "execution_count": 43,
   "metadata": {
    "collapsed": false
   },
   "outputs": [],
   "source": [
    "# Pull opening weekend revenue for 2015\n",
    "url = 'http://www.boxofficemojo.com/yearly/chart/?yr=2015&p=.htm'\n",
    "response = requests.get(url)\n",
    "while(not response.ok):\n",
    "    respone = requests.get(url)\n",
    "    \n",
    "page = response.text\n",
    "soup = BeautifulSoup(page,'lxml')"
   ]
  },
  {
   "cell_type": "code",
   "execution_count": 6,
   "metadata": {
    "collapsed": true
   },
   "outputs": [],
   "source": [
    "def remove_punctuation(x):\n",
    "    x = str(x)\n",
    "    return x.translate(str.maketrans({a:None for a in string.punctuation}))"
   ]
  },
  {
   "cell_type": "code",
   "execution_count": 7,
   "metadata": {
    "collapsed": false
   },
   "outputs": [],
   "source": [
    "def scrape_opening_weekend(year=2015):\n",
    "    url = 'http://www.boxofficemojo.com/yearly/chart/?yr='+str(year)+'&p=.htm'\n",
    "    response = requests.get(url)\n",
    "    while(not response.ok):\n",
    "        response = requests.get(url)\n",
    "\n",
    "    page = response.text\n",
    "    soup = BeautifulSoup(page,'lxml')\n",
    "    \n",
    "    # Find number of pages on table for the year\n",
    "    item = soup.find('center')\n",
    "    pages = len(item.find_all('a'))+1\n",
    "    \n",
    "    # Pull table from each page\n",
    "    for i in range(1,pages+1):\n",
    "        url = 'http://www.boxofficemojo.com/yearly/chart/?page='+str(i)+'&view=releasedate&view2=domestic&yr='+str(year)+'&sort=opengross&p=.htm'\n",
    "        tables = pd.read_html(url)\n",
    "        table = tables[2]\n",
    "        table = table.iloc[6:-6,2:9]\n",
    "        table.columns = ['title','studio','total_gross','total_theatres','opening','opening_theatres','release_date']\n",
    "        if i==1:\n",
    "            df = table\n",
    "        else:\n",
    "            df = pd.concat([df,table])\n",
    "            \n",
    "    # Clean up dataframe types\n",
    "    df.release_date = pd.to_datetime(df.release_date+str(year),format='%m/%d%Y')\n",
    "    df = df.dropna(subset=['opening','opening_theatres'])\n",
    "    df.total_gross = df.total_gross.map(lambda x: int(remove_punctuation(x)))\n",
    "    df.total_theatres = df.total_theatres.map(lambda x: int(x))\n",
    "    df.opening = df.opening.map(lambda x: int(remove_punctuation(x)))\n",
    "    df.opening_theatres = df.opening_theatres.map(lambda x: int(x))\n",
    "    return df\n",
    "        "
   ]
  },
  {
   "cell_type": "code",
   "execution_count": 8,
   "metadata": {
    "collapsed": false
   },
   "outputs": [],
   "source": [
    "data = scrape_opening_weekend()"
   ]
  },
  {
   "cell_type": "code",
   "execution_count": null,
   "metadata": {
    "collapsed": true
   },
   "outputs": [],
   "source": []
  },
  {
   "cell_type": "code",
   "execution_count": 61,
   "metadata": {
    "collapsed": false
   },
   "outputs": [
    {
     "data": {
      "text/html": [
       "<div>\n",
       "<table border=\"1\" class=\"dataframe\">\n",
       "  <thead>\n",
       "    <tr style=\"text-align: right;\">\n",
       "      <th></th>\n",
       "      <th>title</th>\n",
       "      <th>studio</th>\n",
       "      <th>total_gross</th>\n",
       "      <th>total_theatres</th>\n",
       "      <th>opening</th>\n",
       "      <th>opening_theatres</th>\n",
       "      <th>release_date</th>\n",
       "      <th>release_month</th>\n",
       "    </tr>\n",
       "  </thead>\n",
       "  <tbody>\n",
       "    <tr>\n",
       "      <th>6</th>\n",
       "      <td>Star Wars: The Force Awakens</td>\n",
       "      <td>BV</td>\n",
       "      <td>$935,910,912</td>\n",
       "      <td>4134</td>\n",
       "      <td>247966675</td>\n",
       "      <td>4134</td>\n",
       "      <td>2015-12-18</td>\n",
       "      <td>12</td>\n",
       "    </tr>\n",
       "    <tr>\n",
       "      <th>7</th>\n",
       "      <td>Jurassic World</td>\n",
       "      <td>Uni.</td>\n",
       "      <td>$652,270,625</td>\n",
       "      <td>4291</td>\n",
       "      <td>208806270</td>\n",
       "      <td>4274</td>\n",
       "      <td>2015-06-12</td>\n",
       "      <td>6</td>\n",
       "    </tr>\n",
       "    <tr>\n",
       "      <th>8</th>\n",
       "      <td>Avengers: Age of Ultron</td>\n",
       "      <td>BV</td>\n",
       "      <td>$459,005,868</td>\n",
       "      <td>4276</td>\n",
       "      <td>191271109</td>\n",
       "      <td>4276</td>\n",
       "      <td>2015-05-01</td>\n",
       "      <td>5</td>\n",
       "    </tr>\n",
       "    <tr>\n",
       "      <th>9</th>\n",
       "      <td>Furious 7</td>\n",
       "      <td>Uni.</td>\n",
       "      <td>$353,007,020</td>\n",
       "      <td>4022</td>\n",
       "      <td>147187040</td>\n",
       "      <td>4004</td>\n",
       "      <td>2015-04-03</td>\n",
       "      <td>4</td>\n",
       "    </tr>\n",
       "    <tr>\n",
       "      <th>10</th>\n",
       "      <td>Minions</td>\n",
       "      <td>Uni.</td>\n",
       "      <td>$336,045,770</td>\n",
       "      <td>4311</td>\n",
       "      <td>115718405</td>\n",
       "      <td>4301</td>\n",
       "      <td>2015-07-10</td>\n",
       "      <td>7</td>\n",
       "    </tr>\n",
       "  </tbody>\n",
       "</table>\n",
       "</div>"
      ],
      "text/plain": [
       "                           title studio   total_gross total_theatres  \\\n",
       "6   Star Wars: The Force Awakens     BV  $935,910,912           4134   \n",
       "7                 Jurassic World   Uni.  $652,270,625           4291   \n",
       "8        Avengers: Age of Ultron     BV  $459,005,868           4276   \n",
       "9                      Furious 7   Uni.  $353,007,020           4022   \n",
       "10                       Minions   Uni.  $336,045,770           4311   \n",
       "\n",
       "      opening  opening_theatres release_date  release_month  \n",
       "6   247966675              4134   2015-12-18             12  \n",
       "7   208806270              4274   2015-06-12              6  \n",
       "8   191271109              4276   2015-05-01              5  \n",
       "9   147187040              4004   2015-04-03              4  \n",
       "10  115718405              4301   2015-07-10              7  "
      ]
     },
     "execution_count": 61,
     "metadata": {},
     "output_type": "execute_result"
    }
   ],
   "source": [
    "data.head()"
   ]
  },
  {
   "cell_type": "code",
   "execution_count": 82,
   "metadata": {
    "collapsed": false
   },
   "outputs": [
    {
     "data": {
      "text/plain": [
       "<matplotlib.text.Text at 0x11d569128>"
      ]
     },
     "execution_count": 82,
     "metadata": {},
     "output_type": "execute_result"
    },
    {
     "data": {
      "image/png": "[encoded data removed]",
      "text/plain": [
       "<matplotlib.figure.Figure at 0x11d5904e0>"
      ]
     },
     "metadata": {},
     "output_type": "display_data"
    }
   ],
   "source": [
    "plt.scatter(data.opening_theatres, data.opening)\n",
    "plt.title('Opening Weekend Revenue vs Number of Theatres')\n",
    "plt.ylabel('Revenue')\n",
    "plt.xlabel('# of Theatres')"
   ]
  },
  {
   "cell_type": "code",
   "execution_count": 74,
   "metadata": {
    "collapsed": true
   },
   "outputs": [],
   "source": [
    "import numpy as np\n",
    "import statsmodels.formula.api as sm"
   ]
  },
  {
   "cell_type": "code",
   "execution_count": 75,
   "metadata": {
    "collapsed": false
   },
   "outputs": [
    {
     "data": {
      "text/html": [
       "<table class=\"simpletable\">\n",
       "<caption>OLS Regression Results</caption>\n",
       "<tr>\n",
       "  <th>Dep. Variable:</th>         <td>opening</td>     <th>  R-squared:         </th> <td>   0.629</td> \n",
       "</tr>\n",
       "<tr>\n",
       "  <th>Model:</th>                   <td>OLS</td>       <th>  Adj. R-squared:    </th> <td>   0.628</td> \n",
       "</tr>\n",
       "<tr>\n",
       "  <th>Method:</th>             <td>Least Squares</td>  <th>  F-statistic:       </th> <td>   525.6</td> \n",
       "</tr>\n",
       "<tr>\n",
       "  <th>Date:</th>             <td>Mon, 25 Apr 2016</td> <th>  Prob (F-statistic):</th> <td>3.81e-134</td>\n",
       "</tr>\n",
       "<tr>\n",
       "  <th>Time:</th>                 <td>13:03:41</td>     <th>  Log-Likelihood:    </th> <td> -11040.</td> \n",
       "</tr>\n",
       "<tr>\n",
       "  <th>No. Observations:</th>      <td>   622</td>      <th>  AIC:               </th> <td>2.209e+04</td>\n",
       "</tr>\n",
       "<tr>\n",
       "  <th>Df Residuals:</th>          <td>   619</td>      <th>  BIC:               </th> <td>2.210e+04</td>\n",
       "</tr>\n",
       "<tr>\n",
       "  <th>Df Model:</th>              <td>     2</td>      <th>                     </th>     <td> </td>    \n",
       "</tr>\n",
       "<tr>\n",
       "  <th>Covariance Type:</th>      <td>nonrobust</td>    <th>                     </th>     <td> </td>    \n",
       "</tr>\n",
       "</table>\n",
       "<table class=\"simpletable\">\n",
       "<tr>\n",
       "                <td></td>                   <th>coef</th>     <th>std err</th>      <th>t</th>      <th>P>|t|</th> <th>[95.0% Conf. Int.]</th> \n",
       "</tr>\n",
       "<tr>\n",
       "  <th>Intercept</th>                     <td> 1.186e+06</td> <td> 5.71e+05</td> <td>    2.076</td> <td> 0.038</td> <td>  6.4e+04  2.31e+06</td>\n",
       "</tr>\n",
       "<tr>\n",
       "  <th>np.power(opening_theatres, 2)</th> <td>   11.0200</td> <td>    0.588</td> <td>   18.730</td> <td> 0.000</td> <td>    9.865    12.175</td>\n",
       "</tr>\n",
       "<tr>\n",
       "  <th>opening_theatres</th>              <td>-2.626e+04</td> <td> 2022.109</td> <td>  -12.987</td> <td> 0.000</td> <td>-3.02e+04 -2.23e+04</td>\n",
       "</tr>\n",
       "</table>\n",
       "<table class=\"simpletable\">\n",
       "<tr>\n",
       "  <th>Omnibus:</th>       <td>802.176</td> <th>  Durbin-Watson:     </th>  <td>   0.660</td> \n",
       "</tr>\n",
       "<tr>\n",
       "  <th>Prob(Omnibus):</th> <td> 0.000</td>  <th>  Jarque-Bera (JB):  </th> <td>151093.906</td>\n",
       "</tr>\n",
       "<tr>\n",
       "  <th>Skew:</th>          <td> 6.343</td>  <th>  Prob(JB):          </th>  <td>    0.00</td> \n",
       "</tr>\n",
       "<tr>\n",
       "  <th>Kurtosis:</th>      <td>78.293</td>  <th>  Cond. No.          </th>  <td>5.25e+06</td> \n",
       "</tr>\n",
       "</table>"
      ],
      "text/plain": [
       "<class 'statsmodels.iolib.summary.Summary'>\n",
       "\"\"\"\n",
       "                            OLS Regression Results                            \n",
       "==============================================================================\n",
       "Dep. Variable:                opening   R-squared:                       0.629\n",
       "Model:                            OLS   Adj. R-squared:                  0.628\n",
       "Method:                 Least Squares   F-statistic:                     525.6\n",
       "Date:                Mon, 25 Apr 2016   Prob (F-statistic):          3.81e-134\n",
       "Time:                        13:03:41   Log-Likelihood:                -11040.\n",
       "No. Observations:                 622   AIC:                         2.209e+04\n",
       "Df Residuals:                     619   BIC:                         2.210e+04\n",
       "Df Model:                           2                                         \n",
       "Covariance Type:            nonrobust                                         \n",
       "=================================================================================================\n",
       "                                    coef    std err          t      P>|t|      [95.0% Conf. Int.]\n",
       "-------------------------------------------------------------------------------------------------\n",
       "Intercept                      1.186e+06   5.71e+05      2.076      0.038       6.4e+04  2.31e+06\n",
       "np.power(opening_theatres, 2)    11.0200      0.588     18.730      0.000         9.865    12.175\n",
       "opening_theatres              -2.626e+04   2022.109    -12.987      0.000     -3.02e+04 -2.23e+04\n",
       "==============================================================================\n",
       "Omnibus:                      802.176   Durbin-Watson:                   0.660\n",
       "Prob(Omnibus):                  0.000   Jarque-Bera (JB):           151093.906\n",
       "Skew:                           6.343   Prob(JB):                         0.00\n",
       "Kurtosis:                      78.293   Cond. No.                     5.25e+06\n",
       "==============================================================================\n",
       "\n",
       "Warnings:\n",
       "[1] Standard Errors assume that the covariance matrix of the errors is correctly specified.\n",
       "[2] The condition number is large, 5.25e+06. This might indicate that there are\n",
       "strong multicollinearity or other numerical problems.\n",
       "\"\"\""
      ]
     },
     "execution_count": 75,
     "metadata": {},
     "output_type": "execute_result"
    }
   ],
   "source": [
    "model = sm.ols('opening ~ np.power(opening_theatres,2) + opening_theatres', data=data)\n",
    "fit = model.fit()\n",
    "fit.summary()"
   ]
  },
  {
   "cell_type": "code",
   "execution_count": 83,
   "metadata": {
    "collapsed": true
   },
   "outputs": [],
   "source": [
    "test = scrape_opening_weekend(2016)"
   ]
  },
  {
   "cell_type": "code",
   "execution_count": 84,
   "metadata": {
    "collapsed": false
   },
   "outputs": [
    {
     "data": {
      "text/plain": [
       "<matplotlib.collections.PathCollection at 0x11d699828>"
      ]
     },
     "execution_count": 84,
     "metadata": {},
     "output_type": "execute_result"
    },
    {
     "data": {
      "image/png": "[encoded data removed]",
      "text/plain": [
       "<matplotlib.figure.Figure at 0x11d6a8d68>"
      ]
     },
     "metadata": {},
     "output_type": "display_data"
    }
   ],
   "source": [
    "plt.scatter(fit.predict(test),test.opening)"
   ]
  },
  {
   "cell_type": "code",
   "execution_count": 9,
   "metadata": {
    "collapsed": false
   },
   "outputs": [],
   "source": [
    "data.to_pickle('2015.pkl')"
   ]
  },
  {
   "cell_type": "code",
   "execution_count": 57,
   "metadata": {
    "collapsed": false
   },
   "outputs": [],
   "source": [
    "data['release_month'] = data.release_date.map(lambda x: x.month)"
   ]
  },
  {
   "cell_type": "code",
   "execution_count": 60,
   "metadata": {
    "collapsed": false
   },
   "outputs": [
    {
     "name": "stderr",
     "output_type": "stream",
     "text": [
      "//anaconda/lib/python3.5/site-packages/matplotlib/tight_layout.py:222: UserWarning: tight_layout : falling back to Agg renderer\n",
      "  warnings.warn(\"tight_layout : falling back to Agg renderer\")\n"
     ]
    },
    {
     "data": {
      "text/plain": [
       "<seaborn.axisgrid.PairGrid at 0x11ceb85f8>"
      ]
     },
     "execution_count": 60,
     "metadata": {},
     "output_type": "execute_result"
    }
   ],
   "source": [
    "sns.pairplot(data[['opening','opening_theatres','release_month']])"
   ]
  },
  {
   "cell_type": "code",
   "execution_count": null,
   "metadata": {
    "collapsed": false
   },
   "outputs": [],
   "source": [
    "#helping rafa\n",
    "url = 'http://www.boxofficemojo.com/search/?q=x-men:%20the%20last%20stand'\n",
    "response = requests.get(url)\n",
    "soup = BeautifulSoup(response.text,'lxml')"
   ]
  },
  {
   "cell_type": "code",
   "execution_count": null,
   "metadata": {
    "collapsed": false
   },
   "outputs": [],
   "source": [
    "soup.find_all('b')[1].find('a').get('href')"
   ]
  },
  {
   "cell_type": "code",
   "execution_count": null,
   "metadata": {
    "collapsed": false
   },
   "outputs": [],
   "source": [
    "soup.find('tr',attrs={'bgcolor':'#FFFF99'}).find('a').get('href')"
   ]
  },
  {
   "cell_type": "code",
   "execution_count": null,
   "metadata": {
    "collapsed": false
   },
   "outputs": [],
   "source": [
    "# helping anny\n",
    "for year in range(1982,2017):\n",
    "    url = 'http://www.boxofficemojo.com/monthly/?view=calendargross&chart=byyear&yr='+str(year)+'&view=calendargross'\n",
    "    tables = pd.read_html(url,header=0)\n",
    "    table = tables[2]\n",
    "    table = table.iloc[:-1,:]\n",
    "    table['year'] = year\n",
    "    if year == 1982:\n",
    "        df = table\n",
    "    else:\n",
    "        df = pd.concat([df, table])"
   ]
  }
 ],
 "metadata": {
  "kernelspec": {
   "display_name": "Python 3",
   "language": "python",
   "name": "python3"
  },
  "language_info": {
   "codemirror_mode": {
    "name": "ipython",
    "version": 3
   },
   "file_extension": ".py",
   "mimetype": "text/x-python",
   "name": "python",
   "nbconvert_exporter": "python",
   "pygments_lexer": "ipython3",
   "version": "3.5.1"
  }
 },
 "nbformat": 4,
 "nbformat_minor": 0
}
