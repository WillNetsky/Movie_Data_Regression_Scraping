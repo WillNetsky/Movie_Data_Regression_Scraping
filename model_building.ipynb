{
 "cells": [
  {
   "cell_type": "code",
   "execution_count": 2,
   "metadata": {
    "collapsed": true
   },
   "outputs": [],
   "source": [
    "import pandas as pd\n",
    "import matplotlib.pyplot as plt\n",
    "import numpy as np\n",
    "import seaborn as sns\n",
    "import random\n",
    "import sklearn\n",
    "\n",
    "%matplotlib inline"
   ]
  },
  {
   "cell_type": "code",
   "execution_count": 3,
   "metadata": {
    "collapsed": false
   },
   "outputs": [
    {
     "data": {
      "text/html": [
       "<div>\n",
       "<table border=\"1\" class=\"dataframe\">\n",
       "  <thead>\n",
       "    <tr style=\"text-align: right;\">\n",
       "      <th></th>\n",
       "      <th>acting_lead</th>\n",
       "      <th>director</th>\n",
       "      <th>genre</th>\n",
       "      <th>imdb_rating</th>\n",
       "      <th>metascore</th>\n",
       "      <th>opening</th>\n",
       "      <th>opening_theatres</th>\n",
       "      <th>rating</th>\n",
       "      <th>release_date</th>\n",
       "      <th>runtime</th>\n",
       "      <th>studio</th>\n",
       "      <th>title</th>\n",
       "      <th>total_gross</th>\n",
       "      <th>total_theatres</th>\n",
       "      <th>year</th>\n",
       "      <th>num_torrents</th>\n",
       "      <th>torrent_activity</th>\n",
       "    </tr>\n",
       "  </thead>\n",
       "  <tbody>\n",
       "    <tr>\n",
       "      <th>0</th>\n",
       "      <td>Ben Affleck</td>\n",
       "      <td>Zack Snyder</td>\n",
       "      <td>Action, Adventure, Fantasy</td>\n",
       "      <td>7.2</td>\n",
       "      <td>44</td>\n",
       "      <td>166007347</td>\n",
       "      <td>4242</td>\n",
       "      <td>PG-13</td>\n",
       "      <td>2016-03-25</td>\n",
       "      <td>151 min</td>\n",
       "      <td>WB</td>\n",
       "      <td>Batman v Superman: Dawn of Justice</td>\n",
       "      <td>320495804</td>\n",
       "      <td>4256</td>\n",
       "      <td>2016</td>\n",
       "      <td>3</td>\n",
       "      <td>2</td>\n",
       "    </tr>\n",
       "    <tr>\n",
       "      <th>1</th>\n",
       "      <td>Ryan Reynolds</td>\n",
       "      <td>Tim Miller</td>\n",
       "      <td>Action, Adventure, Comedy</td>\n",
       "      <td>8.3</td>\n",
       "      <td>65</td>\n",
       "      <td>132434639</td>\n",
       "      <td>3558</td>\n",
       "      <td>R</td>\n",
       "      <td>2016-02-12</td>\n",
       "      <td>108 min</td>\n",
       "      <td>Fox</td>\n",
       "      <td>Deadpool</td>\n",
       "      <td>361274848</td>\n",
       "      <td>3856</td>\n",
       "      <td>2016</td>\n",
       "      <td>0</td>\n",
       "      <td>0</td>\n",
       "    </tr>\n",
       "    <tr>\n",
       "      <th>2</th>\n",
       "      <td>Neel Sethi</td>\n",
       "      <td>Jon Favreau</td>\n",
       "      <td>Adventure, Drama, Family</td>\n",
       "      <td>8.1</td>\n",
       "      <td>78</td>\n",
       "      <td>103261464</td>\n",
       "      <td>4028</td>\n",
       "      <td>PG</td>\n",
       "      <td>2016-04-15</td>\n",
       "      <td>105 min</td>\n",
       "      <td>BV</td>\n",
       "      <td>The Jungle Book</td>\n",
       "      <td>202218804</td>\n",
       "      <td>4028</td>\n",
       "      <td>2016</td>\n",
       "      <td>1</td>\n",
       "      <td>0</td>\n",
       "    </tr>\n",
       "    <tr>\n",
       "      <th>3</th>\n",
       "      <td>Ginnifer Goodwin</td>\n",
       "      <td>Byron Howard, Rich Moore, Jared Bush</td>\n",
       "      <td>Animation, Action, Adventure</td>\n",
       "      <td>8.4</td>\n",
       "      <td>78</td>\n",
       "      <td>75063401</td>\n",
       "      <td>3827</td>\n",
       "      <td>PG</td>\n",
       "      <td>2016-03-04</td>\n",
       "      <td>108 min</td>\n",
       "      <td>BV</td>\n",
       "      <td>Zootopia</td>\n",
       "      <td>317554942</td>\n",
       "      <td>3959</td>\n",
       "      <td>2016</td>\n",
       "      <td>1</td>\n",
       "      <td>3</td>\n",
       "    </tr>\n",
       "    <tr>\n",
       "      <th>4</th>\n",
       "      <td>Jack Black</td>\n",
       "      <td>Alessandro Carloni, Jennifer Yuh Nelson</td>\n",
       "      <td>Animation, Action, Adventure</td>\n",
       "      <td>7.4</td>\n",
       "      <td>66</td>\n",
       "      <td>41282042</td>\n",
       "      <td>3955</td>\n",
       "      <td>PG</td>\n",
       "      <td>2016-01-29</td>\n",
       "      <td>95 min</td>\n",
       "      <td>Fox</td>\n",
       "      <td>Kung Fu Panda 3</td>\n",
       "      <td>141692280</td>\n",
       "      <td>3987</td>\n",
       "      <td>2016</td>\n",
       "      <td>3</td>\n",
       "      <td>2</td>\n",
       "    </tr>\n",
       "  </tbody>\n",
       "</table>\n",
       "</div>"
      ],
      "text/plain": [
       "        acting_lead                                 director  \\\n",
       "0       Ben Affleck                              Zack Snyder   \n",
       "1     Ryan Reynolds                               Tim Miller   \n",
       "2        Neel Sethi                              Jon Favreau   \n",
       "3  Ginnifer Goodwin     Byron Howard, Rich Moore, Jared Bush   \n",
       "4        Jack Black  Alessandro Carloni, Jennifer Yuh Nelson   \n",
       "\n",
       "                          genre imdb_rating metascore    opening  \\\n",
       "0    Action, Adventure, Fantasy         7.2        44  166007347   \n",
       "1     Action, Adventure, Comedy         8.3        65  132434639   \n",
       "2      Adventure, Drama, Family         8.1        78  103261464   \n",
       "3  Animation, Action, Adventure         8.4        78   75063401   \n",
       "4  Animation, Action, Adventure         7.4        66   41282042   \n",
       "\n",
       "   opening_theatres rating release_date  runtime studio  \\\n",
       "0              4242  PG-13   2016-03-25  151 min     WB   \n",
       "1              3558      R   2016-02-12  108 min    Fox   \n",
       "2              4028     PG   2016-04-15  105 min     BV   \n",
       "3              3827     PG   2016-03-04  108 min     BV   \n",
       "4              3955     PG   2016-01-29   95 min    Fox   \n",
       "\n",
       "                                title total_gross  total_theatres  year  \\\n",
       "0  Batman v Superman: Dawn of Justice   320495804            4256  2016   \n",
       "1                            Deadpool   361274848            3856  2016   \n",
       "2                     The Jungle Book   202218804            4028  2016   \n",
       "3                            Zootopia   317554942            3959  2016   \n",
       "4                     Kung Fu Panda 3   141692280            3987  2016   \n",
       "\n",
       "   num_torrents  torrent_activity  \n",
       "0             3                 2  \n",
       "1             0                 0  \n",
       "2             1                 0  \n",
       "3             1                 3  \n",
       "4             3                 2  "
      ]
     },
     "execution_count": 3,
     "metadata": {},
     "output_type": "execute_result"
    }
   ],
   "source": [
    "data = pd.read_pickle('2010-2016_alldata.pkl')\n",
    "data.head()"
   ]
  },
  {
   "cell_type": "code",
   "execution_count": 4,
   "metadata": {
    "collapsed": false
   },
   "outputs": [
    {
     "ename": "AttributeError",
     "evalue": "'DataFrame' object has no attribute 'num_reviews'",
     "output_type": "error",
     "traceback": [
      "\u001b[0;31m---------------------------------------------------------------------------\u001b[0m",
      "\u001b[0;31mAttributeError\u001b[0m                            Traceback (most recent call last)",
      "\u001b[0;32m<ipython-input-4-89d66fb77baf>\u001b[0m in \u001b[0;36m<module>\u001b[0;34m()\u001b[0m\n\u001b[0;32m----> 1\u001b[0;31m \u001b[0mdata\u001b[0m\u001b[0;34m.\u001b[0m\u001b[0mnum_reviews\u001b[0m \u001b[0;34m=\u001b[0m \u001b[0mdata\u001b[0m\u001b[0;34m.\u001b[0m\u001b[0mnum_reviews\u001b[0m \u001b[0;34m+\u001b[0m \u001b[0;36m2\u001b[0m\u001b[0;34m\u001b[0m\u001b[0m\n\u001b[0m",
      "\u001b[0;32m//anaconda/lib/python3.5/site-packages/pandas/core/generic.py\u001b[0m in \u001b[0;36m__getattr__\u001b[0;34m(self, name)\u001b[0m\n\u001b[1;32m   2358\u001b[0m                 \u001b[0;32mreturn\u001b[0m \u001b[0mself\u001b[0m\u001b[0;34m[\u001b[0m\u001b[0mname\u001b[0m\u001b[0;34m]\u001b[0m\u001b[0;34m\u001b[0m\u001b[0m\n\u001b[1;32m   2359\u001b[0m             raise AttributeError(\"'%s' object has no attribute '%s'\" %\n\u001b[0;32m-> 2360\u001b[0;31m                                  (type(self).__name__, name))\n\u001b[0m\u001b[1;32m   2361\u001b[0m \u001b[0;34m\u001b[0m\u001b[0m\n\u001b[1;32m   2362\u001b[0m     \u001b[0;32mdef\u001b[0m \u001b[0m__setattr__\u001b[0m\u001b[0;34m(\u001b[0m\u001b[0mself\u001b[0m\u001b[0;34m,\u001b[0m \u001b[0mname\u001b[0m\u001b[0;34m,\u001b[0m \u001b[0mvalue\u001b[0m\u001b[0;34m)\u001b[0m\u001b[0;34m:\u001b[0m\u001b[0;34m\u001b[0m\u001b[0m\n",
      "\u001b[0;31mAttributeError\u001b[0m: 'DataFrame' object has no attribute 'num_reviews'"
     ]
    }
   ],
   "source": [
    "data.num_reviews = data.num_reviews + 2"
   ]
  },
  {
   "cell_type": "code",
   "execution_count": 5,
   "metadata": {
    "collapsed": false
   },
   "outputs": [
    {
     "data": {
      "text/plain": [
       "(696, 25)"
      ]
     },
     "execution_count": 5,
     "metadata": {},
     "output_type": "execute_result"
    }
   ],
   "source": [
    "min_theatres = data.loc[data.opening_theatres > 500,:]\n",
    "\n",
    "min_theatres = min_theatres[min_theatres.num_torrents < 30]\n",
    "min_theatres.shape\n",
    "\n",
    "min_theatres['month'] = min_theatres.release_date.map(lambda x: str(x.month))\n",
    "min_theatres['dec_or_jun'] = min_theatres.month.map(lambda x: int(x)%6 == 0)\n",
    "min_theatres['quarter'] = min_theatres.month.map(lambda x: str(int(x)//4))\n",
    "min_theatres.dtypes\n",
    "\n",
    "min_theatres = min_theatres.dropna(subset=['metascore','imdb_rating'])\n",
    "min_theatres = min_theatres[min_theatres.metascore != 'N/A']\n",
    "min_theatres.opening = min_theatres.opening.map(lambda x: int(x))\n",
    "min_theatres.metascore = min_theatres.metascore.map(lambda x: int(x))\n",
    "min_theatres.imdb_rating = min_theatres.imdb_rating.map(lambda x: float(x))\n",
    "min_theatres['opening_per_theatre'] = min_theatres.opening / min_theatres.opening_theatres\n",
    "\n",
    "min_theatres['action'] = min_theatres.genre.map(lambda x: 'action' in x)\n",
    "min_theatres['comedy'] = min_theatres.genre.map(lambda x: 'comedy' in x)\n",
    "min_theatres['drama']  = min_theatres.genre.map(lambda x: 'drama' in x)\n",
    "min_theatres['high_metascore'] = min_theatres.metascore.map(lambda x: x >= 75)\n",
    "\n",
    "msk = np.random.rand(len(min_theatres)) < 0.8\n",
    "train = min_theatres[msk]\n",
    "test  = min_theatres[~msk]\n",
    "\n",
    "min_theatres.shape"
   ]
  },
  {
   "cell_type": "code",
   "execution_count": 90,
   "metadata": {
    "collapsed": false
   },
   "outputs": [
    {
     "data": {
      "text/plain": [
       "<matplotlib.axes._subplots.AxesSubplot at 0x12d79dba8>"
      ]
     },
     "execution_count": 90,
     "metadata": {},
     "output_type": "execute_result"
    },
    {
     "data": {
      "image/png": "[encoded data removed]",
      "text/plain": [
       "<matplotlib.figure.Figure at 0x12d77c940>"
      ]
     },
     "metadata": {},
     "output_type": "display_data"
    }
   ],
   "source": [
    "min_theatres.plot.scatter('metascore','opening_per_theatre')"
   ]
  },
  {
   "cell_type": "code",
   "execution_count": 7,
   "metadata": {
    "collapsed": true
   },
   "outputs": [],
   "source": [
    "import statsmodels.formula.api as sm"
   ]
  },
  {
   "cell_type": "code",
   "execution_count": 29,
   "metadata": {
    "collapsed": false
   },
   "outputs": [
    {
     "data": {
      "text/html": [
       "<table class=\"simpletable\">\n",
       "<caption>OLS Regression Results</caption>\n",
       "<tr>\n",
       "  <th>Dep. Variable:</th>     <td>np.log(opening)</td> <th>  R-squared:         </th> <td>   0.690</td> \n",
       "</tr>\n",
       "<tr>\n",
       "  <th>Model:</th>                   <td>OLS</td>       <th>  Adj. R-squared:    </th> <td>   0.688</td> \n",
       "</tr>\n",
       "<tr>\n",
       "  <th>Method:</th>             <td>Least Squares</td>  <th>  F-statistic:       </th> <td>   310.8</td> \n",
       "</tr>\n",
       "<tr>\n",
       "  <th>Date:</th>             <td>Sun, 01 May 2016</td> <th>  Prob (F-statistic):</th> <td>1.97e-140</td>\n",
       "</tr>\n",
       "<tr>\n",
       "  <th>Time:</th>                 <td>16:45:30</td>     <th>  Log-Likelihood:    </th> <td> -475.91</td> \n",
       "</tr>\n",
       "<tr>\n",
       "  <th>No. Observations:</th>      <td>   563</td>      <th>  AIC:               </th> <td>   961.8</td> \n",
       "</tr>\n",
       "<tr>\n",
       "  <th>Df Residuals:</th>          <td>   558</td>      <th>  BIC:               </th> <td>   983.5</td> \n",
       "</tr>\n",
       "<tr>\n",
       "  <th>Df Model:</th>              <td>     4</td>      <th>                     </th>     <td> </td>    \n",
       "</tr>\n",
       "<tr>\n",
       "  <th>Covariance Type:</th>      <td>nonrobust</td>    <th>                     </th>     <td> </td>    \n",
       "</tr>\n",
       "</table>\n",
       "<table class=\"simpletable\">\n",
       "<tr>\n",
       "                <td></td>                   <th>coef</th>     <th>std err</th>      <th>t</th>      <th>P>|t|</th> <th>[95.0% Conf. Int.]</th> \n",
       "</tr>\n",
       "<tr>\n",
       "  <th>high_metascore[False]</th>         <td>   13.9043</td> <td>    0.182</td> <td>   76.435</td> <td> 0.000</td> <td>   13.547    14.262</td>\n",
       "</tr>\n",
       "<tr>\n",
       "  <th>high_metascore[True]</th>          <td>   14.3687</td> <td>    0.205</td> <td>   70.139</td> <td> 0.000</td> <td>   13.966    14.771</td>\n",
       "</tr>\n",
       "<tr>\n",
       "  <th>np.power(opening_theatres, 2)</th> <td>   7.8e-08</td> <td> 2.72e-08</td> <td>    2.869</td> <td> 0.004</td> <td> 2.46e-08  1.31e-07</td>\n",
       "</tr>\n",
       "<tr>\n",
       "  <th>opening_theatres</th>              <td>    0.0006</td> <td>    0.000</td> <td>    4.573</td> <td> 0.000</td> <td>    0.000     0.001</td>\n",
       "</tr>\n",
       "<tr>\n",
       "  <th>num_torrents</th>                  <td>    0.0109</td> <td>    0.005</td> <td>    2.041</td> <td> 0.042</td> <td>    0.000     0.021</td>\n",
       "</tr>\n",
       "</table>\n",
       "<table class=\"simpletable\">\n",
       "<tr>\n",
       "  <th>Omnibus:</th>       <td> 4.893</td> <th>  Durbin-Watson:     </th> <td>   1.535</td>\n",
       "</tr>\n",
       "<tr>\n",
       "  <th>Prob(Omnibus):</th> <td> 0.087</td> <th>  Jarque-Bera (JB):  </th> <td>   5.839</td>\n",
       "</tr>\n",
       "<tr>\n",
       "  <th>Skew:</th>          <td> 0.086</td> <th>  Prob(JB):          </th> <td>  0.0539</td>\n",
       "</tr>\n",
       "<tr>\n",
       "  <th>Kurtosis:</th>      <td> 3.469</td> <th>  Cond. No.          </th> <td>1.09e+08</td>\n",
       "</tr>\n",
       "</table>"
      ],
      "text/plain": [
       "<class 'statsmodels.iolib.summary.Summary'>\n",
       "\"\"\"\n",
       "                            OLS Regression Results                            \n",
       "==============================================================================\n",
       "Dep. Variable:        np.log(opening)   R-squared:                       0.690\n",
       "Model:                            OLS   Adj. R-squared:                  0.688\n",
       "Method:                 Least Squares   F-statistic:                     310.8\n",
       "Date:                Sun, 01 May 2016   Prob (F-statistic):          1.97e-140\n",
       "Time:                        16:45:30   Log-Likelihood:                -475.91\n",
       "No. Observations:                 563   AIC:                             961.8\n",
       "Df Residuals:                     558   BIC:                             983.5\n",
       "Df Model:                           4                                         \n",
       "Covariance Type:            nonrobust                                         \n",
       "=================================================================================================\n",
       "                                    coef    std err          t      P>|t|      [95.0% Conf. Int.]\n",
       "-------------------------------------------------------------------------------------------------\n",
       "high_metascore[False]            13.9043      0.182     76.435      0.000        13.547    14.262\n",
       "high_metascore[True]             14.3687      0.205     70.139      0.000        13.966    14.771\n",
       "np.power(opening_theatres, 2)    7.8e-08   2.72e-08      2.869      0.004      2.46e-08  1.31e-07\n",
       "opening_theatres                  0.0006      0.000      4.573      0.000         0.000     0.001\n",
       "num_torrents                      0.0109      0.005      2.041      0.042         0.000     0.021\n",
       "==============================================================================\n",
       "Omnibus:                        4.893   Durbin-Watson:                   1.535\n",
       "Prob(Omnibus):                  0.087   Jarque-Bera (JB):                5.839\n",
       "Skew:                           0.086   Prob(JB):                       0.0539\n",
       "Kurtosis:                       3.469   Cond. No.                     1.09e+08\n",
       "==============================================================================\n",
       "\n",
       "Warnings:\n",
       "[1] Standard Errors assume that the covariance matrix of the errors is correctly specified.\n",
       "[2] The condition number is large, 1.09e+08. This might indicate that there are\n",
       "strong multicollinearity or other numerical problems.\n",
       "\"\"\""
      ]
     },
     "execution_count": 29,
     "metadata": {},
     "output_type": "execute_result"
    }
   ],
   "source": [
    "model = sm.ols('np.log(opening) ~ np.power(opening_theatres,2) + opening_theatres + high_metascore + num_torrents + 0',data=train)\n",
    "fit = model.fit()\n",
    "fit.summary()"
   ]
  },
  {
   "cell_type": "code",
   "execution_count": 28,
   "metadata": {
    "collapsed": false
   },
   "outputs": [
    {
     "data": {
      "text/plain": [
       "<matplotlib.text.Text at 0x117be9208>"
      ]
     },
     "execution_count": 28,
     "metadata": {},
     "output_type": "execute_result"
    },
    {
     "data": {
      "image/png": "[encoded data removed]",
      "text/plain": [
       "<matplotlib.figure.Figure at 0x118406cf8>"
      ]
     },
     "metadata": {},
     "output_type": "display_data"
    }
   ],
   "source": [
    "plt.scatter(fit.predict(test),np.log(test.opening_per_theatre))\n",
    "plt.xlabel('Predicted Log(Opening)')\n",
    "plt.ylabel('Actual Log(Opening)')\n",
    "plt.title('Model Predictions on Test Set')\n",
    "r2_scor.predict(test)"
   ]
  },
  {
   "cell_type": "code",
   "execution_count": 30,
   "metadata": {
    "collapsed": false
   },
   "outputs": [
    {
     "data": {
      "text/plain": [
       "<matplotlib.text.Text at 0x118681a20>"
      ]
     },
     "execution_count": 30,
     "metadata": {},
     "output_type": "execute_result"
    },
    {
     "data": {
      "image/png": "[encoded data removed]",
      "text/plain": [
       "<matplotlib.figure.Figure at 0x118406cc0>"
      ]
     },
     "metadata": {},
     "output_type": "display_data"
    }
   ],
   "source": [
    "fit.resid.hist()\n",
    "plt.xlabel('Residual')\n",
    "plt.ylabel('Count')\n",
    "plt.title('Residual Distribution')"
   ]
  },
  {
   "cell_type": "code",
   "execution_count": null,
   "metadata": {
    "collapsed": true
   },
   "outputs": [],
   "source": []
  }
 ],
 "metadata": {
  "kernelspec": {
   "display_name": "Python 3",
   "language": "python",
   "name": "python3"
  },
  "language_info": {
   "codemirror_mode": {
    "name": "ipython",
    "version": 3
   },
   "file_extension": ".py",
   "mimetype": "text/x-python",
   "name": "python",
   "nbconvert_exporter": "python",
   "pygments_lexer": "ipython3",
   "version": "3.5.1"
  }
 },
 "nbformat": 4,
 "nbformat_minor": 0
}
